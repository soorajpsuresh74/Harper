{
 "cells": [
  {
   "cell_type": "code",
   "execution_count": 34,
   "metadata": {},
   "outputs": [],
   "source": [
    "from tree_sitter import Language, Parser\n",
    "\n",
    "import tree_sitter_python as tspython\n",
    "import tree_sitter_go as tsgo\n",
    "import tree_sitter_java as tsjava\n",
    "import tree_sitter_javascript as tsjs\n"
   ]
  },
  {
   "cell_type": "code",
   "execution_count": 35,
   "metadata": {},
   "outputs": [],
   "source": [
    "PY_LANGUAGE = Language(tspython.language())\n",
    "GO_LANGUAGE = Language(tsgo.language())\n",
    "JAVA_LANGUAGE = Language(tsjava.language())\n",
    "JS_LANGUAGE = Language(tsjs.language())"
   ]
  },
  {
   "cell_type": "code",
   "execution_count": 36,
   "metadata": {},
   "outputs": [],
   "source": [
    "python_parser = Parser(PY_LANGUAGE)\n",
    "go_parser = Parser(GO_LANGUAGE)\n",
    "java_parser = Parser(JAVA_LANGUAGE)\n",
    "js_parser =Parser(JS_LANGUAGE)"
   ]
  },
  {
   "cell_type": "code",
   "execution_count": 37,
   "metadata": {},
   "outputs": [],
   "source": [
    "code = bytes(\n",
    "        \"\"\"\n",
    "def foo():\n",
    "    if bar:\n",
    "        baz()\n",
    "\"\"\",\n",
    "        \"utf8\"\n",
    "    )"
   ]
  },
  {
   "cell_type": "code",
   "execution_count": 38,
   "metadata": {},
   "outputs": [
    {
     "data": {
      "text/plain": [
       "tree_sitter.Tree"
      ]
     },
     "execution_count": 38,
     "metadata": {},
     "output_type": "execute_result"
    }
   ],
   "source": [
    "tree = python_parser.parse(code)\n",
    "type(tree)"
   ]
  },
  {
   "cell_type": "code",
   "execution_count": 39,
   "metadata": {},
   "outputs": [
    {
     "data": {
      "text/plain": [
       "<Node type=module, start_point=(1, 0), end_point=(4, 0)>"
      ]
     },
     "execution_count": 39,
     "metadata": {},
     "output_type": "execute_result"
    }
   ],
   "source": [
    "tree.root_node"
   ]
  },
  {
   "cell_type": "code",
   "execution_count": 40,
   "metadata": {},
   "outputs": [],
   "source": [
    "def print_nodes(node, depth=0):\n",
    "    print(\"  \" * depth + f\"Node type: {node.type}, Text: {code[node.start_byte:node.end_byte].decode('utf-8')}\")\n",
    "    for child in node.children:\n",
    "        print_nodes(child, depth + 1)"
   ]
  },
  {
   "cell_type": "code",
   "execution_count": 41,
   "metadata": {},
   "outputs": [
    {
     "name": "stdout",
     "output_type": "stream",
     "text": [
      "Node type: module, Text: def foo():\n",
      "    if bar:\n",
      "        baz()\n",
      "\n",
      "  Node type: function_definition, Text: def foo():\n",
      "    if bar:\n",
      "        baz()\n",
      "    Node type: def, Text: def\n",
      "    Node type: identifier, Text: foo\n",
      "    Node type: parameters, Text: ()\n",
      "      Node type: (, Text: (\n",
      "      Node type: ), Text: )\n",
      "    Node type: :, Text: :\n",
      "    Node type: block, Text: if bar:\n",
      "        baz()\n",
      "      Node type: if_statement, Text: if bar:\n",
      "        baz()\n",
      "        Node type: if, Text: if\n",
      "        Node type: identifier, Text: bar\n",
      "        Node type: :, Text: :\n",
      "        Node type: block, Text: baz()\n",
      "          Node type: expression_statement, Text: baz()\n",
      "            Node type: call, Text: baz()\n",
      "              Node type: identifier, Text: baz\n",
      "              Node type: argument_list, Text: ()\n",
      "                Node type: (, Text: (\n",
      "                Node type: ), Text: )\n"
     ]
    }
   ],
   "source": [
    "print_nodes(tree.root_node)"
   ]
  }
 ],
 "metadata": {
  "kernelspec": {
   "display_name": "testing_env",
   "language": "python",
   "name": "python3"
  },
  "language_info": {
   "codemirror_mode": {
    "name": "ipython",
    "version": 3
   },
   "file_extension": ".py",
   "mimetype": "text/x-python",
   "name": "python",
   "nbconvert_exporter": "python",
   "pygments_lexer": "ipython3",
   "version": "3.13.0"
  }
 },
 "nbformat": 4,
 "nbformat_minor": 2
}
